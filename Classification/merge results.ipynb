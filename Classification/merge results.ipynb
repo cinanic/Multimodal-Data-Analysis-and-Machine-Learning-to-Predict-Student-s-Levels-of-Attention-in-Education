{
 "cells": [
  {
   "cell_type": "code",
   "execution_count": 6,
   "id": "76f949f2",
   "metadata": {},
   "outputs": [],
   "source": [
    "import pandas as pd\n",
    "import os\n",
    "\n",
    "# Define the file names and column names\n",
    "file_names = [\"webcam30.csv\", \"tobii-eyetracker30.csv\", \"feature fusion30.csv\"]\n",
    "column_names = [\"fusion\", \"column1\", \"column2\", \"column3\", \"column4\"]\n",
    "\n",
    "# Create an empty list to store the data frames\n",
    "data_frames = []\n",
    "\n",
    "# Read and process each CSV file\n",
    "for file_name in file_names:\n",
    "    # Read the CSV file\n",
    "    df = pd.read_csv(file_name)\n",
    "    \n",
    "    # Extract the file name without the extension\n",
    "    base_name = os.path.splitext(file_name)[0]\n",
    "    \n",
    "    # Add the fusion column with the file name\n",
    "    df.insert(0, \"fusion\", base_name)\n",
    "    \n",
    "    # Append the data frame to the list\n",
    "    data_frames.append(df)\n",
    "\n",
    "# Merge the data frames\n",
    "merged_df = pd.concat(data_frames, ignore_index=True)\n",
    "\n",
    "# Add a new column with numbers from 1 to the last row\n",
    "merged_df.insert(0, \"Number\", range(1, len(merged_df) + 1))\n",
    "\n",
    "# Save the merged data frame to a new CSV file\n",
    "merged_df.to_csv(\"merged30.csv\", index=False)\n"
   ]
  },
  {
   "cell_type": "code",
   "execution_count": null,
   "id": "826c77c2",
   "metadata": {},
   "outputs": [],
   "source": []
  },
  {
   "cell_type": "code",
   "execution_count": null,
   "id": "bdc60d83",
   "metadata": {},
   "outputs": [],
   "source": []
  }
 ],
 "metadata": {
  "kernelspec": {
   "display_name": "Python 3 (ipykernel)",
   "language": "python",
   "name": "python3"
  },
  "language_info": {
   "codemirror_mode": {
    "name": "ipython",
    "version": 3
   },
   "file_extension": ".py",
   "mimetype": "text/x-python",
   "name": "python",
   "nbconvert_exporter": "python",
   "pygments_lexer": "ipython3",
   "version": "3.9.13"
  }
 },
 "nbformat": 4,
 "nbformat_minor": 5
}
