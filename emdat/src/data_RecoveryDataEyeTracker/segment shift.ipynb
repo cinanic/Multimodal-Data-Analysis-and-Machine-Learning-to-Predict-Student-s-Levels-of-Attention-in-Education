{
 "cells": [
  {
   "cell_type": "code",
   "execution_count": 2,
   "id": "73d9c2b2",
   "metadata": {},
   "outputs": [],
   "source": [
    "import glob\n",
    "\n",
    "# Get a list of all .seg files in the current directory\n",
    "files = glob.glob(\"Recovery_Participant_*.seg\")\n",
    "\n",
    "# Iterate over each file\n",
    "for file in files:\n",
    "    with open(file, \"r\") as f:\n",
    "        lines = f.readlines()\n",
    "\n",
    "    modified_lines = []\n",
    "    for line in lines:\n",
    "        segments = line.split(\"\\t\")\n",
    "        segments[2] = str(int(segments[2]) + 5000000) # change this value to shift first value of each segment in case of changing window sizes\n",
    "        modified_line = \"\\t\".join(segments)\n",
    "        modified_lines.append(modified_line)\n",
    "\n",
    "    with open(file, \"w\") as f:\n",
    "        f.writelines(modified_lines)\n"
   ]
  },
  {
   "cell_type": "code",
   "execution_count": null,
   "id": "a99427f1",
   "metadata": {},
   "outputs": [],
   "source": []
  }
 ],
 "metadata": {
  "kernelspec": {
   "display_name": "Python 3 (ipykernel)",
   "language": "python",
   "name": "python3"
  },
  "language_info": {
   "codemirror_mode": {
    "name": "ipython",
    "version": 3
   },
   "file_extension": ".py",
   "mimetype": "text/x-python",
   "name": "python",
   "nbconvert_exporter": "python",
   "pygments_lexer": "ipython3",
   "version": "3.9.13"
  }
 },
 "nbformat": 4,
 "nbformat_minor": 5
}
