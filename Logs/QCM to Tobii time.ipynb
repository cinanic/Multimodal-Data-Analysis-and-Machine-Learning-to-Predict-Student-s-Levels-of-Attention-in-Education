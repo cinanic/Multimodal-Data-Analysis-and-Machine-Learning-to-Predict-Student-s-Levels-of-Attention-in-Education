{
 "cells": [
  {
   "cell_type": "code",
   "execution_count": 3,
   "id": "5a17218b",
   "metadata": {},
   "outputs": [],
   "source": [
    "import pandas as pd\n",
    "\n",
    "# Define the column names we care about\n",
    "start_pos_col = \"start position seconds\"\n",
    "starttobii_col = \"starttobii\"\n",
    "result_col = \"result\"\n",
    "\n",
    "#this is the QCM end time\n",
    "start_positions = [51, 75, 103, 134, 162, 179, 189, 189, 199, 213, 225, 225, 313, 338, 341, 236, 402, 289, 351]\n",
    "\n",
    "# Loop over the 25 files\n",
    "for i in range(1, 26):\n",
    "    # Load the file\n",
    "    filename = f\"C:/Users/Sina/Desktop/Stage V2/Sripts/Logs/new panopto/panopto_data_updated_P{i:02}.csv\"\n",
    "    df = pd.read_csv(filename)\n",
    "\n",
    "    # Find the nearest smallest number and calculate the differences\n",
    "    result_df = pd.DataFrame(columns=df.columns)\n",
    "    ref_start_positions = df[start_pos_col]\n",
    "    for start_pos in start_positions:\n",
    "        nearest_pos = ref_start_positions.max()\n",
    "        for pos in ref_start_positions:\n",
    "            if pos <= start_pos and abs(start_pos - pos) < abs(start_pos - nearest_pos):\n",
    "                nearest_pos = pos\n",
    "        temp_df = df.loc[df[start_pos_col] == nearest_pos].copy()\n",
    "        temp_df[result_col] = (start_pos - nearest_pos) * 1000000 + temp_df[starttobii_col]\n",
    "        temp_df[\"result -20\"] = temp_df[result_col] - 20000000  # we can change window sizes by changing the value\n",
    "        #temp_df[result_col] /= 1000000\n",
    "        result_df = pd.concat([result_df, temp_df], ignore_index=True)\n",
    "\n",
    "    # Save the result to a new CSV file\n",
    "    output_filename = f\"C:/Users/Sina/Desktop/Stage V2/Sripts/Logs/QCM to Tobii time/P{i:02}_output.csv\"\n",
    "    result_df.to_csv(output_filename, index=False)\n"
   ]
  },
  {
   "cell_type": "code",
   "execution_count": null,
   "id": "5f66a4c5",
   "metadata": {},
   "outputs": [],
   "source": []
  }
 ],
 "metadata": {
  "kernelspec": {
   "display_name": "Python 3 (ipykernel)",
   "language": "python",
   "name": "python3"
  },
  "language_info": {
   "codemirror_mode": {
    "name": "ipython",
    "version": 3
   },
   "file_extension": ".py",
   "mimetype": "text/x-python",
   "name": "python",
   "nbconvert_exporter": "python",
   "pygments_lexer": "ipython3",
   "version": "3.9.13"
  }
 },
 "nbformat": 4,
 "nbformat_minor": 5
}
