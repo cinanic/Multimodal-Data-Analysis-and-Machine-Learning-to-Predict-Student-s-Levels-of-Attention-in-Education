{
 "cells": [
  {
   "cell_type": "code",
   "execution_count": 1,
   "id": "0a800b50",
   "metadata": {},
   "outputs": [
    {
     "name": "stderr",
     "output_type": "stream",
     "text": [
      "C:\\Users\\Sina\\AppData\\Local\\Temp\\ipykernel_14480\\2480357294.py:18: DtypeWarning: Columns (37,38) have mixed types. Specify dtype option on import or set low_memory=False.\n",
      "  df_tsv = pd.read_csv(tsv_file, delimiter=\"\\t\", index_col=False)\n",
      "C:\\Users\\Sina\\AppData\\Local\\Temp\\ipykernel_14480\\2480357294.py:18: DtypeWarning: Columns (37,38) have mixed types. Specify dtype option on import or set low_memory=False.\n",
      "  df_tsv = pd.read_csv(tsv_file, delimiter=\"\\t\", index_col=False)\n",
      "C:\\Users\\Sina\\AppData\\Local\\Temp\\ipykernel_14480\\2480357294.py:18: DtypeWarning: Columns (37,38,65,66,67,68,69,70,72,84,85) have mixed types. Specify dtype option on import or set low_memory=False.\n",
      "  df_tsv = pd.read_csv(tsv_file, delimiter=\"\\t\", index_col=False)\n",
      "C:\\Users\\Sina\\AppData\\Local\\Temp\\ipykernel_14480\\2480357294.py:18: DtypeWarning: Columns (65,66,67,68,69,70,72,84,85) have mixed types. Specify dtype option on import or set low_memory=False.\n",
      "  df_tsv = pd.read_csv(tsv_file, delimiter=\"\\t\", index_col=False)\n",
      "C:\\Users\\Sina\\AppData\\Local\\Temp\\ipykernel_14480\\2480357294.py:18: DtypeWarning: Columns (37,38,65,66,67,68,69,70,72,84,85) have mixed types. Specify dtype option on import or set low_memory=False.\n",
      "  df_tsv = pd.read_csv(tsv_file, delimiter=\"\\t\", index_col=False)\n",
      "C:\\Users\\Sina\\AppData\\Local\\Temp\\ipykernel_14480\\2480357294.py:18: DtypeWarning: Columns (37,38) have mixed types. Specify dtype option on import or set low_memory=False.\n",
      "  df_tsv = pd.read_csv(tsv_file, delimiter=\"\\t\", index_col=False)\n",
      "C:\\Users\\Sina\\AppData\\Local\\Temp\\ipykernel_14480\\2480357294.py:18: DtypeWarning: Columns (37,38,65,66,67,68,69,70,71,72,84,85) have mixed types. Specify dtype option on import or set low_memory=False.\n",
      "  df_tsv = pd.read_csv(tsv_file, delimiter=\"\\t\", index_col=False)\n",
      "C:\\Users\\Sina\\AppData\\Local\\Temp\\ipykernel_14480\\2480357294.py:18: DtypeWarning: Columns (37,38) have mixed types. Specify dtype option on import or set low_memory=False.\n",
      "  df_tsv = pd.read_csv(tsv_file, delimiter=\"\\t\", index_col=False)\n",
      "C:\\Users\\Sina\\AppData\\Local\\Temp\\ipykernel_14480\\2480357294.py:18: DtypeWarning: Columns (37,38,69,70) have mixed types. Specify dtype option on import or set low_memory=False.\n",
      "  df_tsv = pd.read_csv(tsv_file, delimiter=\"\\t\", index_col=False)\n",
      "C:\\Users\\Sina\\AppData\\Local\\Temp\\ipykernel_14480\\2480357294.py:18: DtypeWarning: Columns (37,38) have mixed types. Specify dtype option on import or set low_memory=False.\n",
      "  df_tsv = pd.read_csv(tsv_file, delimiter=\"\\t\", index_col=False)\n",
      "C:\\Users\\Sina\\AppData\\Local\\Temp\\ipykernel_14480\\2480357294.py:18: DtypeWarning: Columns (37,38) have mixed types. Specify dtype option on import or set low_memory=False.\n",
      "  df_tsv = pd.read_csv(tsv_file, delimiter=\"\\t\", index_col=False)\n",
      "C:\\Users\\Sina\\AppData\\Local\\Temp\\ipykernel_14480\\2480357294.py:18: DtypeWarning: Columns (65,66,67,68,69,70,72,84,85) have mixed types. Specify dtype option on import or set low_memory=False.\n",
      "  df_tsv = pd.read_csv(tsv_file, delimiter=\"\\t\", index_col=False)\n",
      "C:\\Users\\Sina\\AppData\\Local\\Temp\\ipykernel_14480\\2480357294.py:18: DtypeWarning: Columns (37,38) have mixed types. Specify dtype option on import or set low_memory=False.\n",
      "  df_tsv = pd.read_csv(tsv_file, delimiter=\"\\t\", index_col=False)\n",
      "C:\\Users\\Sina\\AppData\\Local\\Temp\\ipykernel_14480\\2480357294.py:18: DtypeWarning: Columns (37,38) have mixed types. Specify dtype option on import or set low_memory=False.\n",
      "  df_tsv = pd.read_csv(tsv_file, delimiter=\"\\t\", index_col=False)\n",
      "C:\\Users\\Sina\\AppData\\Local\\Temp\\ipykernel_14480\\2480357294.py:18: DtypeWarning: Columns (37,38) have mixed types. Specify dtype option on import or set low_memory=False.\n",
      "  df_tsv = pd.read_csv(tsv_file, delimiter=\"\\t\", index_col=False)\n"
     ]
    }
   ],
   "source": [
    "import pandas as pd\n",
    "import numpy as np\n",
    "\n",
    "# Iterate over each participant\n",
    "for i in range(1, 26):\n",
    "    # Load CSV file\n",
    "    csv_file = f\"C:/Users/Sina/Desktop/Stage V2/Sripts/new open face/open face data/p{i}.csv\"\n",
    "    df_csv = pd.read_csv(csv_file)\n",
    "\n",
    "    # Filter data where success column value is 1\n",
    "    df_csv = df_csv[df_csv[' success'] == 1]\n",
    "\n",
    "    # Convert timestamp column to microseconds\n",
    "    df_csv[' timestamp'] = df_csv[' timestamp'] * 1000000\n",
    "\n",
    "    # Load TSV file\n",
    "    tsv_file = f\"C:/Users/Sina/Desktop/Stage V2/Data/ChimieVerteData2023/ChimieVerte_DataExportTobii/ChimieVerte2023 RecordingP{i}.tsv\"\n",
    "    df_tsv = pd.read_csv(tsv_file, delimiter=\"\\t\", index_col=False)\n",
    "\n",
    "    # Iterate over each row in the CSV file\n",
    "    for j, row_csv in df_csv.iterrows():\n",
    "        # Find closest timestamp value in TSV file\n",
    "        idx = np.argmin(np.abs(df_tsv['Recording timestamp'] - row_csv[' timestamp']))\n",
    "\n",
    "        # Add gaze_angle_y value to TSV file\n",
    "        df_tsv.loc[idx, 'gaze_angle_y'] = row_csv[' gaze_angle_y']\n",
    "\n",
    "    # Save new TSV file\n",
    "    new_tsv_file = f\"C:/Users/Sina/Desktop/Stage V2/Sripts/new open face/tobii with eye angle/Participant{i}.tsv\"\n",
    "    df_tsv.to_csv(new_tsv_file, sep=\"\\t\", index=False)\n"
   ]
  },
  {
   "cell_type": "code",
   "execution_count": 1,
   "id": "442f11bb",
   "metadata": {},
   "outputs": [
    {
     "name": "stderr",
     "output_type": "stream",
     "text": [
      "C:\\Users\\Sina\\AppData\\Local\\Temp\\ipykernel_12068\\1361570683.py:10: DtypeWarning: Columns (37,38) have mixed types. Specify dtype option on import or set low_memory=False.\n",
      "  df = pd.read_csv(filename, sep='\\t')\n",
      "C:\\Users\\Sina\\AppData\\Local\\Temp\\ipykernel_12068\\1361570683.py:10: DtypeWarning: Columns (37,38) have mixed types. Specify dtype option on import or set low_memory=False.\n",
      "  df = pd.read_csv(filename, sep='\\t')\n",
      "C:\\Users\\Sina\\AppData\\Local\\Temp\\ipykernel_12068\\1361570683.py:10: DtypeWarning: Columns (37,38) have mixed types. Specify dtype option on import or set low_memory=False.\n",
      "  df = pd.read_csv(filename, sep='\\t')\n",
      "C:\\Users\\Sina\\AppData\\Local\\Temp\\ipykernel_12068\\1361570683.py:10: DtypeWarning: Columns (37,38) have mixed types. Specify dtype option on import or set low_memory=False.\n",
      "  df = pd.read_csv(filename, sep='\\t')\n",
      "C:\\Users\\Sina\\AppData\\Local\\Temp\\ipykernel_12068\\1361570683.py:10: DtypeWarning: Columns (37,38) have mixed types. Specify dtype option on import or set low_memory=False.\n",
      "  df = pd.read_csv(filename, sep='\\t')\n",
      "C:\\Users\\Sina\\AppData\\Local\\Temp\\ipykernel_12068\\1361570683.py:10: DtypeWarning: Columns (37,38) have mixed types. Specify dtype option on import or set low_memory=False.\n",
      "  df = pd.read_csv(filename, sep='\\t')\n"
     ]
    },
    {
     "ename": "PermissionError",
     "evalue": "[Errno 13] Permission denied: 'C:/Users/Sina/Desktop/Stage V2/Sripts/new open face/tobii with eye angle/Participant15.tsv'",
     "output_type": "error",
     "traceback": [
      "\u001b[1;31m---------------------------------------------------------------------------\u001b[0m",
      "\u001b[1;31mPermissionError\u001b[0m                           Traceback (most recent call last)",
      "\u001b[1;32m~\\AppData\\Local\\Temp\\ipykernel_12068\\1361570683.py\u001b[0m in \u001b[0;36m<module>\u001b[1;34m\u001b[0m\n\u001b[0;32m     23\u001b[0m \u001b[1;33m\u001b[0m\u001b[0m\n\u001b[0;32m     24\u001b[0m         \u001b[1;31m# Save the updated TSV file\u001b[0m\u001b[1;33m\u001b[0m\u001b[1;33m\u001b[0m\u001b[0m\n\u001b[1;32m---> 25\u001b[1;33m         \u001b[0mdf\u001b[0m\u001b[1;33m.\u001b[0m\u001b[0mto_csv\u001b[0m\u001b[1;33m(\u001b[0m\u001b[0mfilename\u001b[0m\u001b[1;33m,\u001b[0m \u001b[0msep\u001b[0m\u001b[1;33m=\u001b[0m\u001b[1;34m'\\t'\u001b[0m\u001b[1;33m,\u001b[0m \u001b[0mindex\u001b[0m\u001b[1;33m=\u001b[0m\u001b[1;32mFalse\u001b[0m\u001b[1;33m)\u001b[0m\u001b[1;33m\u001b[0m\u001b[1;33m\u001b[0m\u001b[0m\n\u001b[0m",
      "\u001b[1;32m~\\anaconda3\\lib\\site-packages\\pandas\\core\\generic.py\u001b[0m in \u001b[0;36mto_csv\u001b[1;34m(self, path_or_buf, sep, na_rep, float_format, columns, header, index, index_label, mode, encoding, compression, quoting, quotechar, line_terminator, chunksize, date_format, doublequote, escapechar, decimal, errors, storage_options)\u001b[0m\n\u001b[0;32m   3549\u001b[0m         )\n\u001b[0;32m   3550\u001b[0m \u001b[1;33m\u001b[0m\u001b[0m\n\u001b[1;32m-> 3551\u001b[1;33m         return DataFrameRenderer(formatter).to_csv(\n\u001b[0m\u001b[0;32m   3552\u001b[0m             \u001b[0mpath_or_buf\u001b[0m\u001b[1;33m,\u001b[0m\u001b[1;33m\u001b[0m\u001b[1;33m\u001b[0m\u001b[0m\n\u001b[0;32m   3553\u001b[0m             \u001b[0mline_terminator\u001b[0m\u001b[1;33m=\u001b[0m\u001b[0mline_terminator\u001b[0m\u001b[1;33m,\u001b[0m\u001b[1;33m\u001b[0m\u001b[1;33m\u001b[0m\u001b[0m\n",
      "\u001b[1;32m~\\anaconda3\\lib\\site-packages\\pandas\\io\\formats\\format.py\u001b[0m in \u001b[0;36mto_csv\u001b[1;34m(self, path_or_buf, encoding, sep, columns, index_label, mode, compression, quoting, quotechar, line_terminator, chunksize, date_format, doublequote, escapechar, errors, storage_options)\u001b[0m\n\u001b[0;32m   1178\u001b[0m             \u001b[0mformatter\u001b[0m\u001b[1;33m=\u001b[0m\u001b[0mself\u001b[0m\u001b[1;33m.\u001b[0m\u001b[0mfmt\u001b[0m\u001b[1;33m,\u001b[0m\u001b[1;33m\u001b[0m\u001b[1;33m\u001b[0m\u001b[0m\n\u001b[0;32m   1179\u001b[0m         )\n\u001b[1;32m-> 1180\u001b[1;33m         \u001b[0mcsv_formatter\u001b[0m\u001b[1;33m.\u001b[0m\u001b[0msave\u001b[0m\u001b[1;33m(\u001b[0m\u001b[1;33m)\u001b[0m\u001b[1;33m\u001b[0m\u001b[1;33m\u001b[0m\u001b[0m\n\u001b[0m\u001b[0;32m   1181\u001b[0m \u001b[1;33m\u001b[0m\u001b[0m\n\u001b[0;32m   1182\u001b[0m         \u001b[1;32mif\u001b[0m \u001b[0mcreated_buffer\u001b[0m\u001b[1;33m:\u001b[0m\u001b[1;33m\u001b[0m\u001b[1;33m\u001b[0m\u001b[0m\n",
      "\u001b[1;32m~\\anaconda3\\lib\\site-packages\\pandas\\io\\formats\\csvs.py\u001b[0m in \u001b[0;36msave\u001b[1;34m(self)\u001b[0m\n\u001b[0;32m    239\u001b[0m         \"\"\"\n\u001b[0;32m    240\u001b[0m         \u001b[1;31m# apply compression and byte/text conversion\u001b[0m\u001b[1;33m\u001b[0m\u001b[1;33m\u001b[0m\u001b[0m\n\u001b[1;32m--> 241\u001b[1;33m         with get_handle(\n\u001b[0m\u001b[0;32m    242\u001b[0m             \u001b[0mself\u001b[0m\u001b[1;33m.\u001b[0m\u001b[0mfilepath_or_buffer\u001b[0m\u001b[1;33m,\u001b[0m\u001b[1;33m\u001b[0m\u001b[1;33m\u001b[0m\u001b[0m\n\u001b[0;32m    243\u001b[0m             \u001b[0mself\u001b[0m\u001b[1;33m.\u001b[0m\u001b[0mmode\u001b[0m\u001b[1;33m,\u001b[0m\u001b[1;33m\u001b[0m\u001b[1;33m\u001b[0m\u001b[0m\n",
      "\u001b[1;32m~\\anaconda3\\lib\\site-packages\\pandas\\io\\common.py\u001b[0m in \u001b[0;36mget_handle\u001b[1;34m(path_or_buf, mode, encoding, compression, memory_map, is_text, errors, storage_options)\u001b[0m\n\u001b[0;32m    784\u001b[0m         \u001b[1;32mif\u001b[0m \u001b[0mioargs\u001b[0m\u001b[1;33m.\u001b[0m\u001b[0mencoding\u001b[0m \u001b[1;32mand\u001b[0m \u001b[1;34m\"b\"\u001b[0m \u001b[1;32mnot\u001b[0m \u001b[1;32min\u001b[0m \u001b[0mioargs\u001b[0m\u001b[1;33m.\u001b[0m\u001b[0mmode\u001b[0m\u001b[1;33m:\u001b[0m\u001b[1;33m\u001b[0m\u001b[1;33m\u001b[0m\u001b[0m\n\u001b[0;32m    785\u001b[0m             \u001b[1;31m# Encoding\u001b[0m\u001b[1;33m\u001b[0m\u001b[1;33m\u001b[0m\u001b[0m\n\u001b[1;32m--> 786\u001b[1;33m             handle = open(\n\u001b[0m\u001b[0;32m    787\u001b[0m                 \u001b[0mhandle\u001b[0m\u001b[1;33m,\u001b[0m\u001b[1;33m\u001b[0m\u001b[1;33m\u001b[0m\u001b[0m\n\u001b[0;32m    788\u001b[0m                 \u001b[0mioargs\u001b[0m\u001b[1;33m.\u001b[0m\u001b[0mmode\u001b[0m\u001b[1;33m,\u001b[0m\u001b[1;33m\u001b[0m\u001b[1;33m\u001b[0m\u001b[0m\n",
      "\u001b[1;31mPermissionError\u001b[0m: [Errno 13] Permission denied: 'C:/Users/Sina/Desktop/Stage V2/Sripts/new open face/tobii with eye angle/Participant15.tsv'"
     ]
    }
   ],
   "source": [
    "import pandas as pd\n",
    "\n",
    "# Read the seuil.csv file\n",
    "seuil_df = pd.read_csv('seuil.csv')\n",
    "\n",
    "# Loop through each participant's TSV file\n",
    "for i in range(1, 26):\n",
    "    # Read the participant's TSV file\n",
    "    filename = f\"C:/Users/Sina/Desktop/Stage V2/Sripts/new open face/tobii with eye angle/Participant{i}.tsv\"\n",
    "    df = pd.read_csv(filename, sep='\\t')\n",
    "\n",
    "    # Delete rows where 'gaze_angle_y' is null\n",
    "    df = df.dropna(subset=['gaze_angle_y'])\n",
    "\n",
    "    # Check if there are any rows remaining in the dataframe\n",
    "    if not df.empty:\n",
    "        # Add the 'eye-position' column\n",
    "        vmax = seuil_df.loc[seuil_df['Participant'] == i, 'vmax'].values[0]\n",
    "        df['eye-position'] = df['gaze_angle_y'].apply(\n",
    "          lambda x: 'screen' if 0 <= x <= vmax else ('not found-down' if x > vmax else 'not found-up')\n",
    "        )\n",
    "\n",
    "\n",
    "        # Save the updated TSV file\n",
    "        df.to_csv(filename, sep='\\t', index=False)\n"
   ]
  },
  {
   "cell_type": "code",
   "execution_count": null,
   "id": "a0b9f0cd",
   "metadata": {},
   "outputs": [],
   "source": []
  },
  {
   "cell_type": "code",
   "execution_count": null,
   "id": "69bb171f",
   "metadata": {},
   "outputs": [],
   "source": []
  }
 ],
 "metadata": {
  "kernelspec": {
   "display_name": "Python 3 (ipykernel)",
   "language": "python",
   "name": "python3"
  },
  "language_info": {
   "codemirror_mode": {
    "name": "ipython",
    "version": 3
   },
   "file_extension": ".py",
   "mimetype": "text/x-python",
   "name": "python",
   "nbconvert_exporter": "python",
   "pygments_lexer": "ipython3",
   "version": "3.9.13"
  }
 },
 "nbformat": 4,
 "nbformat_minor": 5
}
