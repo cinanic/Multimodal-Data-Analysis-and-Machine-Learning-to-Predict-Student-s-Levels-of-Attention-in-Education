{
 "cells": [
  {
   "cell_type": "code",
   "execution_count": 6,
   "id": "9e133803",
   "metadata": {},
   "outputs": [],
   "source": [
    "import pandas as pd\n",
    "\n",
    "# Read the TSV file\n",
    "data = pd.read_csv(f'C:/Users/Sina/Desktop/Stage V2/Sripts/emdat/src/output/chimieverte_features_30.tsv', delimiter='\\t')\n",
    "\n",
    "# Convert 'Sc_id' column to string\n",
    "data['Sc_id'] = data['Sc_id'].astype(str)\n",
    "\n",
    "# Remove rows with 'allsc' in the 'Sc_id' column\n",
    "data = data[~data['Sc_id'].str.contains('allsc')]\n",
    "\n",
    "# Remove columns containing 'blink', 'saccade', or 'rate' in their names\n",
    "data = data.drop(columns=data.columns[data.columns.str.contains('blink|saccade|rate')])\n",
    "\n",
    "# Remove rows where 'answer' column is null\n",
    "data = data.dropna(subset=['answer'])\n",
    "\n",
    "# Remove rows with 'seg19' or 'seg18' in the 'Sc_id' column\n",
    "data = data[~data['Sc_id'].isin(['seg19', 'seg18'])]\n",
    "\n",
    "# Replace values between 0 and 1 (exclusive) in 'answer' column with 0\n",
    "data.loc[(data['answer'] > 0) & (data['answer'] < 1), 'answer'] = 0\n",
    "\n",
    "# Keep rows with 'numfixations' value equal to or more than 5\n",
    "data = data[data['numfixations'] >= 5]\n",
    "\n",
    "# Remove 'sumpathdistance', 'stddevpathdistance', 'minpupilvelocity', 'numsegments', and 'eyemovementvelocity' columns\n",
    "columns_to_remove = ['sumpathdistance', 'stddevpathdistance', 'eyemovementvelocity', 'minpupilvelocity', 'numsegments']\n",
    "data = data.drop(columns=columns_to_remove)\n",
    "\n",
    "# Save the modified data to a new TSV file\n",
    "data.to_csv('modified_EMDAT30.tsv', sep='\\t', index=False)\n"
   ]
  },
  {
   "cell_type": "code",
   "execution_count": 12,
   "id": "59aa1790",
   "metadata": {},
   "outputs": [],
   "source": [
    "import pandas as pd\n",
    "\n",
    "# Read the TSV file\n",
    "df = pd.read_csv('modified_EMDAT30.tsv', delimiter='\\t')\n",
    "\n",
    "# Filter columns with 'fixation' in their names\n",
    "fixation_columns = [col for col in df.columns if 'fixation' in col]\n",
    "\n",
    "# Columns to keep\n",
    "columns_to_keep = ['Part_id', 'Sc_id', 'answer'] + fixation_columns\n",
    "\n",
    "# Keep only the desired columns\n",
    "df_filtered = df[columns_to_keep]\n",
    "\n",
    "# Save the resulting dataframe as a new TSV file\n",
    "df_filtered.to_csv('fixation30.tsv', sep='\\t', index=False)\n"
   ]
  },
  {
   "cell_type": "code",
   "execution_count": 22,
   "id": "d66a4a11",
   "metadata": {},
   "outputs": [],
   "source": [
    "import pandas as pd\n",
    "\n",
    "# Read the TSV file\n",
    "df = pd.read_csv('modified_EMDAT30.tsv', delimiter='\\t')\n",
    "\n",
    "# Filter columns with 'angles' in their names\n",
    "angles_columns = [col for col in df.columns if 'angles' in col]\n",
    "\n",
    "# Columns to keep\n",
    "columns_to_keep = ['Part_id', 'Sc_id', 'answer'] + angles_columns\n",
    "\n",
    "# Keep only the desired columns\n",
    "df_filtered = df[columns_to_keep]\n",
    "\n",
    "# Save the resulting dataframe as a new TSV file\n",
    "df_filtered.to_csv('angles30.tsv', sep='\\t', index=False)"
   ]
  },
  {
   "cell_type": "code",
   "execution_count": 27,
   "id": "0cc72b01",
   "metadata": {},
   "outputs": [],
   "source": [
    "import pandas as pd\n",
    "\n",
    "# Read the TSV file\n",
    "df = pd.read_csv('modified_EMDAT30.tsv', delimiter='\\t')\n",
    "\n",
    "# Filter columns with 'pupil' in their names\n",
    "pupil_columns = [col for col in df.columns if 'pupil' in col]\n",
    "\n",
    "# Columns to keep\n",
    "columns_to_keep = ['Part_id', 'Sc_id', 'answer'] + pupil_columns\n",
    "\n",
    "# Keep only the desired columns\n",
    "df_filtered = df[columns_to_keep]\n",
    "\n",
    "# Save the resulting dataframe as a new TSV file\n",
    "df_filtered.to_csv('pupil30.tsv', sep='\\t', index=False)"
   ]
  },
  {
   "cell_type": "code",
   "execution_count": 32,
   "id": "5412f867",
   "metadata": {},
   "outputs": [],
   "source": [
    "import pandas as pd\n",
    "\n",
    "# Read the TSV file\n",
    "df = pd.read_csv('modified_EMDAT30.tsv', delimiter='\\t')\n",
    "\n",
    "# Filter columns with 'distance' in their names\n",
    "distance_columns = [col for col in df.columns if 'distance' in col]\n",
    "\n",
    "# Columns to keep\n",
    "columns_to_keep = ['Part_id', 'Sc_id', 'answer'] + distance_columns\n",
    "\n",
    "# Keep only the desired columns\n",
    "df_filtered = df[columns_to_keep]\n",
    "\n",
    "# Save the resulting dataframe as a new TSV file\n",
    "df_filtered.to_csv('distance30.tsv', sep='\\t', index=False)"
   ]
  },
  {
   "cell_type": "code",
   "execution_count": null,
   "id": "a78ba4bb",
   "metadata": {},
   "outputs": [],
   "source": []
  }
 ],
 "metadata": {
  "kernelspec": {
   "display_name": "Python 3 (ipykernel)",
   "language": "python",
   "name": "python3"
  },
  "language_info": {
   "codemirror_mode": {
    "name": "ipython",
    "version": 3
   },
   "file_extension": ".py",
   "mimetype": "text/x-python",
   "name": "python",
   "nbconvert_exporter": "python",
   "pygments_lexer": "ipython3",
   "version": "3.9.13"
  }
 },
 "nbformat": 4,
 "nbformat_minor": 5
}
