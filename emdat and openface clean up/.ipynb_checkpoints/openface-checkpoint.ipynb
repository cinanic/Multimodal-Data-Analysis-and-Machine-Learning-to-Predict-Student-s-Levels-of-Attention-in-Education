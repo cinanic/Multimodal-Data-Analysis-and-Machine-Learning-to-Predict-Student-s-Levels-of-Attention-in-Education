{
 "cells": [
  {
   "cell_type": "code",
   "execution_count": 5,
   "id": "e45c9b8d",
   "metadata": {},
   "outputs": [],
   "source": [
    "import pandas as pd\n",
    "\n",
    "# Read the TSV file\n",
    "data = pd.read_csv(f'C:/Users/Sina/Desktop/Stage V2/Sripts/new open face/openface30.tsv', delimiter='\\t')\n",
    "\n",
    "# Remove columns containing Time in their names\n",
    "data = data.drop(columns=data.columns[data.columns.str.contains('Time')])\n",
    "\n",
    "# Remove rows where 'answer' column is null\n",
    "data = data.dropna(subset=['answer'])\n",
    "\n",
    "# Remove rows with 'seg19' or 'seg18' in the 'Sc_id' column\n",
    "data = data[~data['Sc_id'].isin(['seg19', 'seg18'])]\n",
    "\n",
    "# Replace values between 0 and 1 (exclusive) in 'answer' column with 0\n",
    "data.loc[(data['answer'] > 0) & (data['answer'] < 1), 'answer'] = 0\n",
    "\n",
    "# Save the modified data to a new TSV file\n",
    "data.to_csv('modified_openface30.tsv', sep='\\t', index=False)"
   ]
  },
  {
   "cell_type": "code",
   "execution_count": 10,
   "id": "e0133926",
   "metadata": {},
   "outputs": [],
   "source": [
    "import pandas as pd\n",
    "\n",
    "# Read the TSV file\n",
    "df = pd.read_csv('modified_openface30.tsv', delimiter='\\t')\n",
    "\n",
    "# Filter columns with 'gaze' in their names\n",
    "gaze_columns = [col for col in df.columns if 'gaze' in col]\n",
    "\n",
    "# Columns to keep\n",
    "columns_to_keep = ['Part_id', 'Sc_id', 'answer'] + gaze_columns\n",
    "\n",
    "# Keep only the desired columns\n",
    "df_filtered = df[columns_to_keep]\n",
    "\n",
    "# Save the resulting dataframe as a new TSV file\n",
    "df_filtered.to_csv('gaze30.tsv', sep='\\t', index=False)"
   ]
  },
  {
   "cell_type": "code",
   "execution_count": 15,
   "id": "fb4d3f77",
   "metadata": {},
   "outputs": [],
   "source": [
    "import pandas as pd\n",
    "\n",
    "# Read the TSV file\n",
    "df = pd.read_csv('modified_openface30.tsv', delimiter='\\t')\n",
    "\n",
    "# Filter columns with 'pose' in their names\n",
    "pose_columns = [col for col in df.columns if 'pose' in col]\n",
    "\n",
    "# Columns to keep\n",
    "columns_to_keep = ['Part_id', 'Sc_id', 'answer'] + pose_columns\n",
    "\n",
    "# Keep only the desired columns\n",
    "df_filtered = df[columns_to_keep]\n",
    "\n",
    "# Save the resulting dataframe as a new TSV file\n",
    "df_filtered.to_csv('pose30.tsv', sep='\\t', index=False)"
   ]
  },
  {
   "cell_type": "code",
   "execution_count": 20,
   "id": "5f0193f2",
   "metadata": {},
   "outputs": [],
   "source": [
    "import pandas as pd\n",
    "\n",
    "# Read the TSV file\n",
    "df = pd.read_csv('modified_openface30.tsv', delimiter='\\t')\n",
    "\n",
    "# Filter columns with 'AU' in their names\n",
    "AU_columns = [col for col in df.columns if 'AU' in col]\n",
    "\n",
    "# Columns to keep\n",
    "columns_to_keep = ['Part_id', 'Sc_id', 'answer'] + AU_columns\n",
    "\n",
    "# Keep only the desired columns\n",
    "df_filtered = df[columns_to_keep]\n",
    "\n",
    "# Save the resulting dataframe as a new TSV file\n",
    "df_filtered.to_csv('AU30.tsv', sep='\\t', index=False)"
   ]
  },
  {
   "cell_type": "code",
   "execution_count": null,
   "id": "9dc4ebef",
   "metadata": {},
   "outputs": [],
   "source": []
  }
 ],
 "metadata": {
  "kernelspec": {
   "display_name": "Python 3 (ipykernel)",
   "language": "python",
   "name": "python3"
  },
  "language_info": {
   "codemirror_mode": {
    "name": "ipython",
    "version": 3
   },
   "file_extension": ".py",
   "mimetype": "text/x-python",
   "name": "python",
   "nbconvert_exporter": "python",
   "pygments_lexer": "ipython3",
   "version": "3.9.13"
  }
 },
 "nbformat": 4,
 "nbformat_minor": 5
}
