{
 "cells": [
  {
   "cell_type": "code",
   "execution_count": 4,
   "id": "d772502c",
   "metadata": {},
   "outputs": [],
   "source": [
    "import pandas as pd\n",
    "\n",
    "# Read the first TSV file\n",
    "df1 = pd.read_csv('modified_EMDAT30.tsv', delimiter='\\t')\n",
    "\n",
    "# Read the second TSV file\n",
    "df2 = pd.read_csv('modified_openface30.tsv', delimiter='\\t')\n",
    "\n",
    "# Merge the dataframes based on 'Part_id' and 'Sc_id' columns\n",
    "merged_df = pd.merge(df1, df2, on=['Part_id', 'Sc_id'], suffixes=('_emdat', '_openface'))\n",
    "\n",
    "# Drop the duplicate 'answer' column\n",
    "merged_df = merged_df.drop('answer_emdat', axis=1)\n",
    "\n",
    "# Export the merged dataframe to a TSV file\n",
    "merged_df.to_csv('merged_data30.tsv', sep='\\t', index=False)"
   ]
  },
  {
   "cell_type": "code",
   "execution_count": null,
   "id": "1e6420d6",
   "metadata": {},
   "outputs": [],
   "source": []
  },
  {
   "cell_type": "code",
   "execution_count": null,
   "id": "27d0edbc",
   "metadata": {},
   "outputs": [],
   "source": []
  }
 ],
 "metadata": {
  "kernelspec": {
   "display_name": "Python 3 (ipykernel)",
   "language": "python",
   "name": "python3"
  },
  "language_info": {
   "codemirror_mode": {
    "name": "ipython",
    "version": 3
   },
   "file_extension": ".py",
   "mimetype": "text/x-python",
   "name": "python",
   "nbconvert_exporter": "python",
   "pygments_lexer": "ipython3",
   "version": "3.9.13"
  }
 },
 "nbformat": 4,
 "nbformat_minor": 5
}
